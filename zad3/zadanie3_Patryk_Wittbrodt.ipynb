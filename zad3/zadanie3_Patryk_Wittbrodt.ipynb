{
 "cells": [
  {
   "cell_type": "markdown",
   "metadata": {},
   "source": [
    "Autor: **Patryk Wittbrodt**  \n",
    "**WZ_INIS6 50933** "
   ]
  },
  {
   "cell_type": "markdown",
   "metadata": {},
   "source": [
    "# Zadanie 3\n",
    "\n",
    "> *dekorator, metaklasa i deskryptor* - czym są?"
   ]
  },
  {
   "cell_type": "markdown",
   "metadata": {},
   "source": [
    "### Dekorator"
   ]
  },
  {
   "cell_type": "markdown",
   "metadata": {},
   "source": [
    "> *Dekorator w Python, to nic innego jak **funkcja**, która przyjmuje jako parametr funkcję, którą chcemy **udekorować**, następnie tworzy wewnętrzną funkcję, która **nadpisuje** działanie przekazanej przez parametr funkcji, a następnie **zwraca** wewnętrzną funkcję.*\n",
    "\n",
    "*(źródło: [analityk.edu.pl](https://analityk.edu.pl/python-dekoratory/))*\n",
    "\n",
    "**Przykład użycia: sprawdzenie czasu wykonania funkcji**"
   ]
  },
  {
   "cell_type": "code",
   "execution_count": 20,
   "metadata": {},
   "outputs": [
    {
     "name": "stdout",
     "output_type": "stream",
     "text": [
      "Wprowadzona liczba: 7\n",
      "Wynik: 5040\n",
      "Nazwa funkcji: factorial\n",
      "Czas wykonania funkcji: 2.0149848461151123\n"
     ]
    }
   ],
   "source": [
    "# importowanie bibliotek\n",
    "import time\n",
    "import math\n",
    " \n",
    "# tworzenie dekoratora\n",
    "def calculate_time(func):\n",
    "     \n",
    "    # dodanie wewnętrznej funkcji, która będzie posiadać argumenty\n",
    "    def inner(*args, **kwargs):\n",
    " \n",
    "        # zapisujemy czas przed wykonaniem funkcji\n",
    "        begin = time.time()\n",
    "         \n",
    "        func(*args, **kwargs)\n",
    " \n",
    "        # zapisujemy czas po wykonaniu funkcji\n",
    "        end = time.time()\n",
    "        print(\"Nazwa funkcji:\", func.__name__)\n",
    "        print(\"Czas wykonania funkcji:\", end - begin)\n",
    " \n",
    "    return inner\n",
    "\n",
    "# można tu użyć jakiejkolwiek funkcji, jako przykład policzymy silnię\n",
    "@calculate_time\n",
    "def factorial(num):\n",
    "\n",
    "    # wstrzymujemy działanie na 2 sekundy, ponieważ wykonanie tej funkcji zajmuje wiele mniej czasu, a chcemy obliczyć różnicę\n",
    "    # bez uspania funkcji różnica będzie wynosić 0.0\n",
    "    time.sleep(2)\n",
    "    print(\"Wynik:\", math.factorial(num))\n",
    "\n",
    "# pobierzmy wartość od użytkownika\n",
    "userNumber = input(\"Wprowadź liczbę całkowitą:\")\n",
    "\n",
    "# prosty sposób na sprawdzenie, czy użytkownik podał liczbę całkowitą większą od 0 (bo liczymy silnię)\n",
    "# nie będziemy się skupiać na dalszej walidacji, ponieważ nie o to chodzi w tym przykładzie\n",
    "if (int(userNumber) and (int(userNumber) > 0)):\n",
    "    print(\"Wprowadzona liczba:\", userNumber)\n",
    "    factorial(int(userNumber))"
   ]
  },
  {
   "cell_type": "markdown",
   "metadata": {},
   "source": [
    "### Metaklasa"
   ]
  },
  {
   "cell_type": "markdown",
   "metadata": {},
   "source": [
    "> *Metaklasa jest klasą klasy. Tak jak klasa definiuje zachowanie instancji klasy, tak metaklasa definiuje zachowanie klasy. Klasa jest instancją metaklasy.*\n",
    "\n",
    "*(źródło: [doraprojects.net](https://doraprojects.net/questions/100003/what-are-metaclasses-in-python))*\n",
    "\n",
    "> *Obiekt, którego instancją jest klasa, nazywamy **metaklasą**.*  \n",
    "...  \n",
    "*Za metaklasę uznaje się tę klasę, która dziedziczy po **type**.*\n",
    "\n",
    "*(źródło: [mmazurek.dev](https://mmazurek.dev/metaklasy-w-pythonie/))*\n",
    "\n",
    "**Przykład użycia: Ograniczenie tworzenia klas do konkretnej ilości**"
   ]
  },
  {
   "cell_type": "code",
   "execution_count": 24,
   "metadata": {},
   "outputs": [
    {
     "ename": "RuntimeError",
     "evalue": "Nasza implementacja pozwala tylko na stworzenie pięciu klas <class '__main__.MyMetaClass'>!",
     "output_type": "error",
     "traceback": [
      "\u001b[1;31m---------------------------------------------------------------------------\u001b[0m",
      "\u001b[1;31mRuntimeError\u001b[0m                              Traceback (most recent call last)",
      "\u001b[1;32md:\\Wazne\\wsb\\lab_zaaw_python\\zad3\\zadanie3_Patryk_Wittbrodt.ipynb Cell 8'\u001b[0m in \u001b[0;36m<module>\u001b[1;34m\u001b[0m\n\u001b[0;32m     <a href='vscode-notebook-cell:/d%3A/Wazne/wsb/lab_zaaw_python/zad3/zadanie3_Patryk_Wittbrodt.ipynb#ch0000045?line=23'>24</a>\u001b[0m     \u001b[39mpass\u001b[39;00m\n\u001b[0;32m     <a href='vscode-notebook-cell:/d%3A/Wazne/wsb/lab_zaaw_python/zad3/zadanie3_Patryk_Wittbrodt.ipynb#ch0000045?line=25'>26</a>\u001b[0m \u001b[39m# spróbujmy przekroczyć limit 5 klas\u001b[39;00m\n\u001b[1;32m---> <a href='vscode-notebook-cell:/d%3A/Wazne/wsb/lab_zaaw_python/zad3/zadanie3_Patryk_Wittbrodt.ipynb#ch0000045?line=27'>28</a>\u001b[0m \u001b[39mclass\u001b[39;00m \u001b[39mClass6\u001b[39;00m(metaclass\u001b[39m=\u001b[39mMyMetaClass):\n\u001b[0;32m     <a href='vscode-notebook-cell:/d%3A/Wazne/wsb/lab_zaaw_python/zad3/zadanie3_Patryk_Wittbrodt.ipynb#ch0000045?line=28'>29</a>\u001b[0m     \u001b[39mpass\u001b[39;00m\n",
      "\u001b[1;32md:\\Wazne\\wsb\\lab_zaaw_python\\zad3\\zadanie3_Patryk_Wittbrodt.ipynb Cell 8'\u001b[0m in \u001b[0;36mMyMetaClass.__new__\u001b[1;34m(cls, *args, **kwargs)\u001b[0m\n\u001b[0;32m      <a href='vscode-notebook-cell:/d%3A/Wazne/wsb/lab_zaaw_python/zad3/zadanie3_Patryk_Wittbrodt.ipynb#ch0000045?line=5'>6</a>\u001b[0m     \u001b[39mcls\u001b[39m\u001b[39m.\u001b[39m_max_class_instances \u001b[39m-\u001b[39m\u001b[39m=\u001b[39m \u001b[39m1\u001b[39m\n\u001b[0;32m      <a href='vscode-notebook-cell:/d%3A/Wazne/wsb/lab_zaaw_python/zad3/zadanie3_Patryk_Wittbrodt.ipynb#ch0000045?line=6'>7</a>\u001b[0m     \u001b[39mreturn\u001b[39;00m \u001b[39msuper\u001b[39m()\u001b[39m.\u001b[39m\u001b[39m__new__\u001b[39m(\u001b[39mcls\u001b[39m, \u001b[39m*\u001b[39margs, \u001b[39m*\u001b[39m\u001b[39m*\u001b[39mkwargs)\n\u001b[1;32m----> <a href='vscode-notebook-cell:/d%3A/Wazne/wsb/lab_zaaw_python/zad3/zadanie3_Patryk_Wittbrodt.ipynb#ch0000045?line=7'>8</a>\u001b[0m \u001b[39mraise\u001b[39;00m \u001b[39mRuntimeError\u001b[39;00m(\u001b[39mf\u001b[39m\u001b[39m'\u001b[39m\u001b[39mNasza implementacja pozwala tylko na stworzenie pięciu klas \u001b[39m\u001b[39m{\u001b[39;00m\u001b[39mcls\u001b[39m\u001b[39m}\u001b[39;00m\u001b[39m!\u001b[39m\u001b[39m'\u001b[39m)\n",
      "\u001b[1;31mRuntimeError\u001b[0m: Nasza implementacja pozwala tylko na stworzenie pięciu klas <class '__main__.MyMetaClass'>!"
     ]
    }
   ],
   "source": [
    "class MyMetaClass(type):\n",
    "     _max_class_instances = 5 # zezwolimy na tworzenie maksymalnie 5 klas\n",
    "    \n",
    "     def __new__(cls, *args, **kwargs):\n",
    "        if cls._max_class_instances > 0: # sprawdzamy, czy są jeszcze wolne miejsca dla klas\n",
    "            cls._max_class_instances -= 1 # odejmujemy 1, aby program wiedział ile wolnych miejsc zostało\n",
    "            return super().__new__(cls, *args, **kwargs) # zwracamy klasę\n",
    "        raise RuntimeError(f'Nasza implementacja pozwala tylko na stworzenie pięciu klas {cls}!')\n",
    "\n",
    "\n",
    "class Class1(metaclass=MyMetaClass):\n",
    "    pass\n",
    "\n",
    "class Class2(metaclass=MyMetaClass):\n",
    "    pass\n",
    "\n",
    "class Class3(metaclass=MyMetaClass):\n",
    "    pass\n",
    "\n",
    "class Class4(metaclass=MyMetaClass):\n",
    "    pass\n",
    "\n",
    "class Class5(metaclass=MyMetaClass):\n",
    "    pass\n",
    "\n",
    "# spróbujmy przekroczyć limit 5 klas\n",
    "\n",
    "class Class6(metaclass=MyMetaClass):\n",
    "    pass"
   ]
  },
  {
   "cell_type": "markdown",
   "metadata": {},
   "source": [
    "### Deskryptor"
   ]
  },
  {
   "cell_type": "markdown",
   "metadata": {},
   "source": [
    "> *W ogólnym przypadku deskryptor jest atrybutem obiektu definiującym **\"zachowanie dowiązania\"**, tj. takim, do którego dostęp jest kontrolowany przez metody deskryptora o nazwach: **\\_\\_get\\_\\_**(), **\\_\\_set\\_\\_**() i **\\_\\_delete\\_\\_**(). Jeśli obiekt implementuje którąkolwiek z tych metod, wówczas określa się go mianem deskryptora.*\n",
    "\n",
    "*(źródło: [pl.python.org](https://pl.python.org/docs/ref/node15.html#SECTION005323000000000000000))*\n",
    "\n",
    "**Przykład użycia: zapis i odczyt jednocyfrowej liczby w klasach**"
   ]
  },
  {
   "cell_type": "code",
   "execution_count": 25,
   "metadata": {},
   "outputs": [
    {
     "name": "stdout",
     "output_type": "stream",
     "text": [
      "1: 3\n",
      "2: 7\n",
      "3: 0\n"
     ]
    }
   ],
   "source": [
    "class OneDigitNumericValue():\n",
    "    def __set_name__(self, owner, name): # __set_name__ pozwala na przypisane OneDigitNumericValue() bez podawania argumentów\n",
    "        self.name = name\n",
    "\n",
    "    def __get__(self, obj, type=None) -> object: # pobieramy wartość lub 0, jeśli nie jest przypisana\n",
    "        return obj.__dict__.get(self.name) or 0\n",
    "\n",
    "    def __set__(self, obj, value) -> None: # ustawiamy wartość\n",
    "        obj.__dict__[self.name] = value\n",
    "\n",
    "class Example(): # tworzymy klasę Example, a w niej number, gdzie będzie przechowywany numer\n",
    "    number = OneDigitNumericValue()\n",
    "\n",
    "exampleObj1 = Example()\n",
    "exampleObj2 = Example()\n",
    "exampleObj3 = Example()\n",
    "\n",
    "# tu zadziała nasz __set__\n",
    "exampleObj1.number = 3 \n",
    "exampleObj2.number = 7\n",
    "\n",
    "# tu zadziała nasz __get__ (exampleObj3 nie ma przypisanego numeru, więc powinno wyświetlić 0 [na podstawie \"or 0\"])\n",
    "print(\"1:\", exampleObj1.number)\n",
    "print(\"2:\", exampleObj2.number)\n",
    "print(\"3:\", exampleObj3.number)"
   ]
  },
  {
   "cell_type": "markdown",
   "metadata": {},
   "source": [
    "### Bibliografia\n",
    "\n",
    "- https://analityk.edu.pl/python-dekoratory/\n",
    "- https://doraprojects.net/questions/100003/what-are-metaclasses-in-python\n",
    "- https://mmazurek.dev/metaklasy-w-pythonie/\n",
    "- https://pl.python.org/docs/ref/node15.html#SECTION005323000000000000000"
   ]
  }
 ],
 "metadata": {
  "interpreter": {
   "hash": "d2353902cdf07c8000daee34972d2affdd0740ffc1172a46fee4bff23f220e23"
  },
  "kernelspec": {
   "display_name": "Python 3.9.2 64-bit",
   "language": "python",
   "name": "python3"
  },
  "language_info": {
   "codemirror_mode": {
    "name": "ipython",
    "version": 3
   },
   "file_extension": ".py",
   "mimetype": "text/x-python",
   "name": "python",
   "nbconvert_exporter": "python",
   "pygments_lexer": "ipython3",
   "version": "3.10.2"
  },
  "orig_nbformat": 4
 },
 "nbformat": 4,
 "nbformat_minor": 2
}
