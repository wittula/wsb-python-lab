{
 "cells": [
  {
   "cell_type": "markdown",
   "metadata": {},
   "source": [
    "Autor: **Patryk Wittbrodt**  \n",
    "**WZ_INIS6 50933** "
   ]
  },
  {
   "cell_type": "markdown",
   "metadata": {},
   "source": [
    "# Zadanie 4\n",
    "\n",
    "*Napisz co to są **wątki** i do czego się je używa. Wymyśl dwie aplikacje działające **wielowątkowo** (samo wypisywanie informacji na ekranie to za mało) i je zaimplementuj w **języku Python**.*"
   ]
  },
  {
   "cell_type": "markdown",
   "metadata": {},
   "source": [
    "### Wątki"
   ]
  },
  {
   "cell_type": "markdown",
   "metadata": {},
   "source": [
    "> _**Wątek** to osobna jednostka wykonawcza działająca w obrębie tego samego procesu._\n",
    "\n",
    "> _**Proces** to taki worek na wątki. W jego obrębie może działać wiele wątków (ale nie mniej niż jeden), które współdzielą pamięć._\n",
    "\n",
    "<blockquote><i>Praca z wątkami jest zazwyczaj realizowana na trzy sposoby:\n",
    "<ul>\n",
    "    <li>poprzez użycie klasy <b>Thread</b>,</li>\n",
    "    <li>poprzez dziedziczenie z klasy <b>Thread</b>,</li>\n",
    "    <li>poprzez pulę wątków.</li>\n",
    "</ul></i>\n",
    "</blockquote>\n",
    "\n",
    "*(źródło: [mmazurek.dev](https://mmazurek.dev/watki-i-procesy-w-pythonie/))*"
   ]
  },
  {
   "cell_type": "markdown",
   "metadata": {},
   "source": [
    "#### Przykład nr 1: Tworzenie plików .txt i podmiana ich treści\n",
    "\n",
    "Jako przykład posłuży nam 10 plików txt z błędem, który będziemy chcieli poprawić. Treść plików przed zmianą:\n",
    "\n",
    "> nzwa: lorem ipsum\n",
    "\n",
    "Chcemy zmienić \"nzwa\" na \"nazwa\":\n",
    "\n",
    "> nazwa: lorem ipsum"
   ]
  },
  {
   "cell_type": "code",
   "execution_count": 2,
   "metadata": {},
   "outputs": [],
   "source": [
    "# importowanie bibliotek\n",
    "from threading import Thread\n",
    "from time import perf_counter\n",
    "\n",
    "# ścieżki do plików, których treść będzie podmieniana\n",
    "filenames = [\n",
    "    'txt/test1.txt',\n",
    "    'txt/test2.txt',\n",
    "    'txt/test3.txt',\n",
    "    'txt/test4.txt',\n",
    "    'txt/test5.txt',\n",
    "    'txt/test6.txt',\n",
    "    'txt/test7.txt',\n",
    "    'txt/test8.txt',\n",
    "    'txt/test9.txt',\n",
    "    'txt/test10.txt',\n",
    "]\n",
    "\n",
    "# stworzenie funkcji, która stworzy nam pliki .txt z błędem w pisowni (bez użycia wątków, zobaczymy różnicę w czasie wykonania)\n",
    "def createTxt():\n",
    "    start_time = perf_counter()\n",
    "\n",
    "    for filename in filenames:\n",
    "        with open(filename, 'w') as f:\n",
    "            f.write('nzwa: lorem ipsum')\n",
    "    \n",
    "    end_time = perf_counter()\n",
    "\n",
    "    print(f'Tworzenie plików .txt bez użycia wątków trwało {end_time- start_time :0.2f}s.')\n",
    "\n",
    "# stworzenie funkcji, która będzie podmieniać treść pliku\n",
    "def replace(filename, substr, new_substr):\n",
    "    print(f'Obsługuję plik {filename}')\n",
    "    \n",
    "    # pobieranie treści pliku\n",
    "    with open(filename, 'r') as f:\n",
    "        content = f.read()\n",
    "\n",
    "    # podmiana wspomnianej frazy na nową\n",
    "    content = content.replace(substr, new_substr)\n",
    "\n",
    "    # zapisanie zmian\n",
    "    with open(filename, 'w') as f:\n",
    "        f.write(content)"
   ]
  },
  {
   "cell_type": "markdown",
   "metadata": {},
   "source": [
    "Tworzenie plików .txt:"
   ]
  },
  {
   "cell_type": "code",
   "execution_count": 6,
   "metadata": {},
   "outputs": [
    {
     "name": "stdout",
     "output_type": "stream",
     "text": [
      "Tworzenie plików .txt bez użycia wątków trwało 0.02s.\n"
     ]
    }
   ],
   "source": [
    "# tworzenie plików .txt\n",
    "createTxt()"
   ]
  },
  {
   "cell_type": "markdown",
   "metadata": {},
   "source": [
    "Wynik:\n",
    "\n",
    "<img src=\"https://i.imgur.com/WmbmRGC.png\">"
   ]
  },
  {
   "cell_type": "code",
   "execution_count": 14,
   "metadata": {},
   "outputs": [
    {
     "name": "stdout",
     "output_type": "stream",
     "text": [
      "Obsługuję plik txt/test1.txt\n",
      "Obsługuję plik txt/test2.txt\n",
      "Obsługuję plik txt/test3.txt\n",
      "Obsługuję plik txt/test4.txt\n",
      "Obsługuję plik txt/test5.txt\n",
      "Obsługuję plik txt/test6.txt\n",
      "Obsługuję plik txt/test7.txt\n",
      "Obsługuję plik txt/test8.txt\n",
      "Obsługuję plik txt/test9.txt\n",
      "Obsługuję plik txt/test10.txt\n",
      "Wykonanie programu z użyciem wątków trwało 0.01s.\n"
     ]
    }
   ],
   "source": [
    "# podmiana treści z użyciem wątków\n",
    "\n",
    "def main():\n",
    "\n",
    "    # tworzenie wątków\n",
    "    threads = [Thread(target=replace, args=(filename, 'nzwa', 'nazwa'))\n",
    "            for filename in filenames]\n",
    "\n",
    "    # rozpoczęcie wątków\n",
    "    for thread in threads:\n",
    "        thread.start()\n",
    "\n",
    "    # czekanie, aż wątki zakończą swoje zadanie\n",
    "    for thread in threads:\n",
    "        thread.join()\n",
    "\n",
    "if __name__ == \"__main__\":\n",
    "    start_time = perf_counter()\n",
    "\n",
    "    main()\n",
    "\n",
    "    end_time = perf_counter()\n",
    "    print(f'Wykonanie programu z użyciem wątków trwało {end_time- start_time :0.2f}s.')"
   ]
  },
  {
   "cell_type": "markdown",
   "metadata": {},
   "source": [
    "Wynik:  \n",
    "\n",
    "<img src=\"https://i.imgur.com/bTgk3r6.png\">"
   ]
  },
  {
   "cell_type": "markdown",
   "metadata": {},
   "source": [
    "#### Przykład nr 2: Pingowanie urządzeń w sieci lokalnej\n",
    "\n",
    "Pingowanie w zwykłej pętli bez użycia wątków byłoby bardzo niewydajne - musielibyśmy czekać na każdy ping po kolei"
   ]
  },
  {
   "cell_type": "code",
   "execution_count": 44,
   "metadata": {},
   "outputs": [
    {
     "name": "stdout",
     "output_type": "stream",
     "text": [
      "Status adresu 192.168.0.1 : aktywny\n",
      "Status adresu 192.168.0.2 : aktywny\n",
      "Status adresu 192.168.0.3 : brak odpowiedzi\n",
      "Status adresu 192.168.0.4 : brak odpowiedzi\n",
      "Status adresu 192.168.0.5 : brak odpowiedzi\n",
      "Status adresu 192.168.0.6 : brak odpowiedzi\n",
      "Status adresu 192.168.0.7 : brak odpowiedzi\n",
      "Status adresu 192.168.0.8 : brak odpowiedzi\n",
      "Status adresu 192.168.0.9 : brak odpowiedzi\n",
      "Status adresu 192.168.0.10 : brak odpowiedzi\n",
      "Status adresu 192.168.0.11 : brak odpowiedzi\n",
      "Status adresu 192.168.0.12 : brak odpowiedzi\n",
      "Status adresu 192.168.0.13 : brak odpowiedzi\n",
      "Status adresu 192.168.0.14 : aktywny\n",
      "Status adresu 192.168.0.15 : brak odpowiedzi\n"
     ]
    }
   ],
   "source": [
    "# importowanie bibliotek, Thread już jest zaimportowany w poprzednim kodzie\n",
    "import os\n",
    "\n",
    "# tworzenie klasy z wątkiem\n",
    "class ip_check(Thread):\n",
    "   def __init__ (self, ip):\n",
    "      Thread.__init__(self)\n",
    "      self.ip = ip\n",
    "      self.__successful_pings = -1 # domyślna wartość w razie błędów\n",
    "\n",
    "   def run(self):\n",
    "      ping_out = os.popen(\"ping \" + self.ip, 'r').read() # wykonujemy ping i czytamy wynik (na Linuxie polecenie ping daje więcej opcji i kod mógłby się wykonać jeszcze szybciej)\n",
    "\n",
    "      self.__successful_pings = 1 # domyślnie uznajemy, że ping zakończył się sukcesem\n",
    "\n",
    "      # jeśli jednak host nie został znaleziony, przypiszemy mu taką wartość\n",
    "      if \"unreachable\" in ping_out:\n",
    "         self.__successful_pings = 0\n",
    "\n",
    "   # pobieranie statusu\n",
    "   def status(self):\n",
    "      if self.__successful_pings == 0:\n",
    "         return \"brak odpowiedzi\"\n",
    "      elif self.__successful_pings == 1:\n",
    "         return \"aktywny\"\n",
    "      else:\n",
    "         return \"błąd\"\n",
    "\n",
    "check_results = []\n",
    "\n",
    "# pingujemy od 192.168.0.1 do 192.168.0.15\n",
    "for suffix in range(1,16):\n",
    "   ip = \"192.168.0.\" + str(suffix)\n",
    "   current = ip_check(ip)\n",
    "   check_results.append(current)\n",
    "   current.start()\n",
    "\n",
    "# wyświetlamy wynik\n",
    "for el in check_results:\n",
    "   el.join()\n",
    "   print(\"Status adresu\", el.ip, \":\", el.status())"
   ]
  },
  {
   "cell_type": "markdown",
   "metadata": {},
   "source": [
    "### Bibliografia\n",
    "\n",
    "- https://mmazurek.dev/watki-i-procesy-w-pythonie/"
   ]
  }
 ],
 "metadata": {
  "interpreter": {
   "hash": "d2353902cdf07c8000daee34972d2affdd0740ffc1172a46fee4bff23f220e23"
  },
  "kernelspec": {
   "display_name": "Python 3.9.2 64-bit",
   "language": "python",
   "name": "python3"
  },
  "language_info": {
   "codemirror_mode": {
    "name": "ipython",
    "version": 3
   },
   "file_extension": ".py",
   "mimetype": "text/x-python",
   "name": "python",
   "nbconvert_exporter": "python",
   "pygments_lexer": "ipython3",
   "version": "3.10.2"
  },
  "orig_nbformat": 4
 },
 "nbformat": 4,
 "nbformat_minor": 2
}
