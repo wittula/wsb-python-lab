{
 "cells": [
  {
   "cell_type": "markdown",
   "metadata": {},
   "source": [
    "<div>Autor: <b>Patryk Wittbrodt</b><br><b>WZ_INIS6 50933</b></div> \n",
    "\n",
    "# Zadanie 2"
   ]
  },
  {
   "cell_type": "markdown",
   "metadata": {},
   "source": [
    "### Przygotowanie"
   ]
  },
  {
   "cell_type": "code",
   "execution_count": 1,
   "metadata": {},
   "outputs": [],
   "source": [
    "# import bibliotek\n",
    "import sqlite3\n",
    "import datetime\n",
    "\n",
    "# tworzenie klasy, która będzie odpowiadać za operacje na bazie danych SQLite.\n",
    "class DatabaseInterface:\n",
    "    def __init__(self, database_path):\n",
    "        self.conn = sqlite3.connect(database_path, detect_types=sqlite3.PARSE_DECLTYPES | sqlite3.PARSE_COLNAMES)\n",
    "        self.cur = self.conn.cursor()\n",
    "\n",
    "    # wstępne przygotowanie bazy - tworzenie tabeli, gdzie przechowywane będą informacje.\n",
    "    def setup(self):\n",
    "        createTableQuery = '''CREATE TABLE IF NOT EXISTS pets (\n",
    "            id INTEGER PRIMARY KEY AUTOINCREMENT,\n",
    "            name TEXT NOT NULL,\n",
    "            type TEXT NOT NULL,\n",
    "            gender TEXT NOT NULL,\n",
    "            dateOfBirth datetime,\n",
    "            timeAdded timestamp\n",
    "            )'''\n",
    "        \n",
    "        self.cur.execute(createTableQuery)\n",
    "\n",
    "    # metoda na której będziemy opierać następne metody.\n",
    "    def execute(self, query, data):\n",
    "        self.cur.execute(query, data)\n",
    "        self.conn.commit()\n",
    "        return self.cur\n",
    "\n",
    "    # C - create\n",
    "    # dodawanie nowego pupila do bazy - czasami nie znamy jego daty urodzenia (np. gdy przygarniamy go z ulicy), więc przygotujemy metodę na dwa scenariusze.\n",
    "    def addPet(self, name, type, gender, dateOfBirth=None):\n",
    "        if dateOfBirth is not None:\n",
    "            return self.execute(\"INSERT INTO pets (name, type, gender, dateOfBirth, timeAdded) VALUES (?, ?, ?, ?, ?)\", (name, type, gender, dateOfBirth, datetime.datetime.now()))\n",
    "        else:\n",
    "            return self.execute(\"INSERT INTO pets (name, type, gender, dateOfBirth, timeAdded) VALUES (?, ?, ?, ?, ?)\", (name, type, gender, None, datetime.datetime.now()))\n",
    "\n",
    "\n",
    "    # R - read\n",
    "    # podstawowe odczytywanie danych z bazy - aby wyświetlić wynik po wykonanej metodzie wykonujemy również metodę printSelectResults().\n",
    "    def getPetsInfo(self):\n",
    "        self.execute(\"SELECT * FROM pets\", ())\n",
    "\n",
    "    def getPetsByType(self, type):\n",
    "        self.execute(\"SELECT * FROM pets WHERE type = ?\", (type,))\n",
    "    \n",
    "    def getPetsByGender(self, gender):\n",
    "        self.execute(\"SELECT * FROM pets WHERE gender = ?\", (gender,))\n",
    "\n",
    "    def getPetsBornIn(self, date):\n",
    "        self.execute(\"SELECT * FROM pets WHERE dateOfBirth = ?\", (date,))\n",
    "\n",
    "    def getPetsBornBefore(self, date):\n",
    "        self.execute(\"SELECT * FROM pets WHERE dateOfBirth < ?\", (date,))\n",
    "\n",
    "    def getPetsBornAfter(self, date):\n",
    "        self.execute(\"SELECT * FROM pets WHERE dateOfBirth > ?\", (date,))\n",
    "\n",
    "    def getPetInfoByID(self, petID):\n",
    "        return self.execute(\"SELECT * FROM pets WHERE id = ?\", (petID,))\n",
    "\n",
    "    def printSelectResults(self):\n",
    "        records = self.cur.fetchall()\n",
    "\n",
    "        for row in records:\n",
    "            print(\"-------------------------\")\n",
    "            print(\"ID:\", row[0])\n",
    "            print(\"Nazwa:\", row[1], \"| typ:\", row[2], \"| płeć:\", row[3])\n",
    "            print(\"Data urodzenia: \", row[4])\n",
    "            print(\"Data dodania: \", row[5])\n",
    "        \n",
    "        print(\"-------------------------\")\n",
    "\n",
    "\n",
    "    # U - update\n",
    "    # zmiana wartości poszczególnych danych w bazie na podstawie ID pupila\n",
    "    def changePetName(self, petID, newName):\n",
    "        return self.execute(\"UPDATE pets SET name = ? WHERE id = ?\", (newName, petID))\n",
    "    \n",
    "    def changePetType(self, petID, newType):\n",
    "        return self.execute(\"UPDATE pets SET type = ? WHERE id = ?\", (newType, petID))\n",
    "\n",
    "    def changePetGender(self, petID, newGender):\n",
    "        return self.execute(\"UPDATE pets SET gender = ? WHERE id = ?\", (newGender, petID))\n",
    "\n",
    "    def changePetDateOfBirth(self, petID, newDate):\n",
    "        return self.execute(\"UPDATE pets SET dateOfBirth = ? WHERE id = ?\", (newDate, petID))\n",
    "\n",
    "    # metoda pozwalająca zmienić wszystkie dane od razu - stworzona tylko \"dla zasady\"\n",
    "    def changePetAllData(self, petID, newName, newType, newGender, newDate):\n",
    "        return self.execute(\"UPDATE pets SET name = ?, type = ?, gender = ?, dateOfBirth = ? WHERE id = ?\", (newName, newType, newGender, newDate, petID))\n",
    "\n",
    "\n",
    "    # D - delete\n",
    "    # usuwanie pupila, pupilów i całej tabeli\n",
    "    def deletePet(self, petID):\n",
    "        return self.execute(\"DELETE FROM pets WHERE id = ?\", (petID,))\n",
    "    \n",
    "    def deleteAllPets(self):\n",
    "        return self.execute(\"DELETE FROM pets\", ())\n",
    "\n",
    "    def dropTable(self):\n",
    "        self.cur.execute('DROP TABLE pets')\n",
    "\n",
    "    def __del__(self):\n",
    "        self.conn.close()"
   ]
  },
  {
   "cell_type": "markdown",
   "metadata": {},
   "source": [
    "Po stworzeniu klasy, która znacznie ułatwi nam pracę na bazie, czas pokazać zastosowanie i efekty:"
   ]
  },
  {
   "cell_type": "code",
   "execution_count": 3,
   "metadata": {},
   "outputs": [],
   "source": [
    "db = DatabaseInterface('pets.db') # łączymy się z bazą na podstawie ściezki do pliku i przypisujemy te połączenie do zmiennej.\n",
    "\n",
    "db.setup() # przygotowujemy naszą bazę do przechowywania danych o pupilach - wystarczy wykonać tylko raz.\n"
   ]
  },
  {
   "cell_type": "markdown",
   "metadata": {},
   "source": [
    "## CRUD\n",
    "Create - tworzenie,  Read - odczytywanie, Update - aktualizowanie, Delete - usuwanie"
   ]
  },
  {
   "cell_type": "markdown",
   "metadata": {},
   "source": [
    "### Tworzenie"
   ]
  },
  {
   "cell_type": "markdown",
   "metadata": {},
   "source": [
    "Baza z początku będzie pusta, więc ją wypełnijmy dwoma przykładowymi pupilami i wyświetlimy zawartość bazy:"
   ]
  },
  {
   "cell_type": "code",
   "execution_count": 48,
   "metadata": {},
   "outputs": [
    {
     "name": "stdout",
     "output_type": "stream",
     "text": [
      "-------------------------\n",
      "ID: 1\n",
      "Nazwa: Nero | typ: pies | płeć: samiec\n",
      "Data urodzenia:  2020-10-04\n",
      "Data dodania:  2022-02-27 17:04:52.796204\n",
      "-------------------------\n",
      "ID: 2\n",
      "Nazwa: Mruczek | typ: kot | płeć: samiec\n",
      "Data urodzenia:  2018-04-20\n",
      "Data dodania:  2022-02-27 17:04:52.895206\n",
      "-------------------------\n"
     ]
    }
   ],
   "source": [
    "db.addPet('Nero', 'pies', 'samiec', datetime.date(2020, 10, 4)) # pies o imieniu Nero urodzony 4 października 2020 roku\n",
    "db.addPet('Mruczek', 'kot', 'samiec', datetime.date(2018, 4, 20)) # kot o imieniu Mruczek urodzony 20 kwietnia 2018 roku\n",
    "\n",
    "db.getPetsInfo() # pobieramy zawartość tabeli 'pets'\n",
    "db.printSelectResults() # wyświetlamy wynik ostatniego selecta"
   ]
  },
  {
   "cell_type": "markdown",
   "metadata": {},
   "source": [
    "Jak widać dodało nam dwa zwierzęta, każde ze swoim unikalnym ID. Na podstawie tego ID możemy przeprowadzać operacje takie jak wyszukiwanie danych, edytowanie ich bądź usunięcie zwierzaka z bazy. Zanim jednak do tego przejdziemy - spróbujmy do bazy dodać zwierzaka, którego daty urodzenia nie znamy:"
   ]
  },
  {
   "cell_type": "code",
   "execution_count": 49,
   "metadata": {},
   "outputs": [
    {
     "name": "stdout",
     "output_type": "stream",
     "text": [
      "-------------------------\n",
      "ID: 1\n",
      "Nazwa: Nero | typ: pies | płeć: samiec\n",
      "Data urodzenia:  2020-10-04\n",
      "Data dodania:  2022-02-27 17:04:52.796204\n",
      "-------------------------\n",
      "ID: 2\n",
      "Nazwa: Mruczek | typ: kot | płeć: samiec\n",
      "Data urodzenia:  2018-04-20\n",
      "Data dodania:  2022-02-27 17:04:52.895206\n",
      "-------------------------\n",
      "ID: 3\n",
      "Nazwa: Maniek | typ: pies | płeć: samiec\n",
      "Data urodzenia:  None\n",
      "Data dodania:  2022-02-27 17:08:53.434958\n",
      "-------------------------\n"
     ]
    }
   ],
   "source": [
    "db.addPet('Maniek', 'pies', 'samiec') # sami nadaliśmy mu imię i wiemy tylko tyle, zobaczymy co na to nasza baza danych.\n",
    "\n",
    "db.getPetsInfo() # pobieramy zawartość tabeli 'pets'\n",
    "db.printSelectResults() # wyświetlamy wynik ostatniego selecta"
   ]
  },
  {
   "cell_type": "markdown",
   "metadata": {},
   "source": [
    "Nasza baza nie ma problemu ze zwierzętami, których daty urodzenia nie znamy. Dla wyraźniejszych wyników testów dodajmy więcej zwierząt do bazy:"
   ]
  },
  {
   "cell_type": "code",
   "execution_count": 51,
   "metadata": {},
   "outputs": [
    {
     "name": "stdout",
     "output_type": "stream",
     "text": [
      "-------------------------\n",
      "ID: 1\n",
      "Nazwa: Nero | typ: pies | płeć: samiec\n",
      "Data urodzenia:  2020-10-04\n",
      "Data dodania:  2022-02-27 17:04:52.796204\n",
      "-------------------------\n",
      "ID: 2\n",
      "Nazwa: Mruczek | typ: kot | płeć: samiec\n",
      "Data urodzenia:  2018-04-20\n",
      "Data dodania:  2022-02-27 17:04:52.895206\n",
      "-------------------------\n",
      "ID: 3\n",
      "Nazwa: Maniek | typ: pies | płeć: samiec\n",
      "Data urodzenia:  None\n",
      "Data dodania:  2022-02-27 17:08:53.434958\n",
      "-------------------------\n",
      "ID: 4\n",
      "Nazwa: Azor | typ: pies | płeć: samiec\n",
      "Data urodzenia:  2016-07-13\n",
      "Data dodania:  2022-02-27 17:13:49.041855\n",
      "-------------------------\n",
      "ID: 5\n",
      "Nazwa: Azor | typ: pies | płeć: samiec\n",
      "Data urodzenia:  2016-07-13\n",
      "Data dodania:  2022-02-27 17:13:49.136862\n",
      "-------------------------\n",
      "ID: 6\n",
      "Nazwa: Azor | typ: pies | płeć: samiec\n",
      "Data urodzenia:  2016-07-13\n",
      "Data dodania:  2022-02-27 17:13:49.236855\n",
      "-------------------------\n",
      "ID: 7\n",
      "Nazwa: Azor | typ: pies | płeć: samiec\n",
      "Data urodzenia:  2016-07-13\n",
      "Data dodania:  2022-02-27 17:13:49.344843\n",
      "-------------------------\n",
      "ID: 8\n",
      "Nazwa: Azor | typ: pies | płeć: samiec\n",
      "Data urodzenia:  2016-07-13\n",
      "Data dodania:  2022-02-27 17:13:49.428402\n",
      "-------------------------\n"
     ]
    }
   ],
   "source": [
    "db.addPet('Azor', 'pies', 'samiec', datetime.date(2016, 7, 13))\n",
    "db.addPet('Azor', 'pies', 'samiec', datetime.date(2016, 7, 13))\n",
    "db.addPet('Azor', 'pies', 'samiec', datetime.date(2016, 7, 13))\n",
    "db.addPet('Azor', 'pies', 'samiec', datetime.date(2016, 7, 13))\n",
    "db.addPet('Azor', 'pies', 'samiec', datetime.date(2016, 7, 13))\n",
    "\n",
    "db.getPetsInfo() # pobieramy zawartość tabeli 'pets'\n",
    "db.printSelectResults() # wyświetlamy wynik ostatniego selecta"
   ]
  },
  {
   "cell_type": "markdown",
   "metadata": {},
   "source": [
    "### Usuwanie\n",
    "Dodaliśmy duplikaty Azora. Załóżmy, że ktoś zrobił to przez przypadek i teraz chcemy je usunąć. Wystarczy się odwołać do ID zwierzaka, którego chcemy usunąć z bazy. Jeśli chcemy usuwać wiele zwierząt można zrobić to za pomocą pętli która będzie działać na tablicy, gdzie podane są ID do usunięcia. Z uwagi na małą ilość \"Azorów\" usunę jednego po drugim, linijka po linijce:"
   ]
  },
  {
   "cell_type": "code",
   "execution_count": 53,
   "metadata": {},
   "outputs": [
    {
     "name": "stdout",
     "output_type": "stream",
     "text": [
      "-------------------------\n",
      "ID: 1\n",
      "Nazwa: Nero | typ: pies | płeć: samiec\n",
      "Data urodzenia:  2020-10-04\n",
      "Data dodania:  2022-02-27 17:04:52.796204\n",
      "-------------------------\n",
      "ID: 2\n",
      "Nazwa: Mruczek | typ: kot | płeć: samiec\n",
      "Data urodzenia:  2018-04-20\n",
      "Data dodania:  2022-02-27 17:04:52.895206\n",
      "-------------------------\n",
      "ID: 3\n",
      "Nazwa: Maniek | typ: pies | płeć: samiec\n",
      "Data urodzenia:  None\n",
      "Data dodania:  2022-02-27 17:08:53.434958\n",
      "-------------------------\n",
      "ID: 4\n",
      "Nazwa: Azor | typ: pies | płeć: samiec\n",
      "Data urodzenia:  2016-07-13\n",
      "Data dodania:  2022-02-27 17:13:49.041855\n",
      "-------------------------\n"
     ]
    }
   ],
   "source": [
    "# pierwszy Azor ma ID 4, czyli tego nie usuwamy - jest to oryginalny Azor\n",
    "db.deletePet(5)\n",
    "db.deletePet(6)\n",
    "db.deletePet(7)\n",
    "db.deletePet(8)\n",
    "\n",
    "db.getPetsInfo() # pobieramy zawartość tabeli 'pets'\n",
    "db.printSelectResults() # wyświetlamy wynik ostatniego selecta"
   ]
  },
  {
   "cell_type": "markdown",
   "metadata": {},
   "source": [
    "Teraz możemy przystąpić do prawdziwego dodawania zwierzaków:"
   ]
  },
  {
   "cell_type": "code",
   "execution_count": 54,
   "metadata": {},
   "outputs": [
    {
     "data": {
      "text/plain": [
       "<sqlite3.Cursor at 0x249616b6e40>"
      ]
     },
     "execution_count": 54,
     "metadata": {},
     "output_type": "execute_result"
    }
   ],
   "source": [
    "db.addPet('Sonia', 'pies', 'samica', datetime.date(2016, 7, 15))\n",
    "db.addPet('Nela', 'kot', 'samica', datetime.date(2013, 1, 22))\n",
    "db.addPet('Pelagia', 'papuga', 'samica', datetime.date(2019, 10, 5))\n",
    "db.addPet('Luna', 'pies', 'samica', datetime.date(2021, 3, 10))\n",
    "db.addPet('Yuri', 'jaszczurka', 'samiec', datetime.date(2021, 4, 1))\n",
    "db.addPet('Babi', 'pies', 'samiec', datetime.date(2021, 4, 10))\n",
    "db.addPet('Kacper', 'kot', 'samiec', datetime.date(2020, 3, 1))"
   ]
  },
  {
   "cell_type": "markdown",
   "metadata": {},
   "source": [
    "### Odczytywanie"
   ]
  },
  {
   "cell_type": "markdown",
   "metadata": {},
   "source": [
    "Na ten moment zwierzaków jest już więcej, więc wyświetlanie pełnej listy nie ma większego sensu - już sprawdziliśmy działanie tej metody. Oprócz wyświetlania wszystkich zwierząt metody z naszej klasy oferują nam wyświetlanie na podstawie typu (rodzaju) zwięrząt, na podstawie płci czy daty urodzenia (dokładny dzień, urodzone przed i urodzone po). Sprawdźmy to:"
   ]
  },
  {
   "cell_type": "markdown",
   "metadata": {},
   "source": [
    "Wyświetlmy tylko psy:"
   ]
  },
  {
   "cell_type": "code",
   "execution_count": 55,
   "metadata": {},
   "outputs": [
    {
     "name": "stdout",
     "output_type": "stream",
     "text": [
      "-------------------------\n",
      "ID: 1\n",
      "Nazwa: Nero | typ: pies | płeć: samiec\n",
      "Data urodzenia:  2020-10-04\n",
      "Data dodania:  2022-02-27 17:04:52.796204\n",
      "-------------------------\n",
      "ID: 3\n",
      "Nazwa: Maniek | typ: pies | płeć: samiec\n",
      "Data urodzenia:  None\n",
      "Data dodania:  2022-02-27 17:08:53.434958\n",
      "-------------------------\n",
      "ID: 4\n",
      "Nazwa: Azor | typ: pies | płeć: samiec\n",
      "Data urodzenia:  2016-07-13\n",
      "Data dodania:  2022-02-27 17:13:49.041855\n",
      "-------------------------\n",
      "ID: 9\n",
      "Nazwa: Sonia | typ: pies | płeć: samica\n",
      "Data urodzenia:  2016-07-15\n",
      "Data dodania:  2022-02-27 17:25:37.660803\n",
      "-------------------------\n",
      "ID: 12\n",
      "Nazwa: Luna | typ: pies | płeć: samica\n",
      "Data urodzenia:  2021-03-10\n",
      "Data dodania:  2022-02-27 17:25:38.425924\n",
      "-------------------------\n",
      "ID: 14\n",
      "Nazwa: Babi | typ: pies | płeć: samiec\n",
      "Data urodzenia:  2021-04-10\n",
      "Data dodania:  2022-02-27 17:25:38.609348\n",
      "-------------------------\n"
     ]
    }
   ],
   "source": [
    "db.getPetsByType('pies')\n",
    "db.printSelectResults()"
   ]
  },
  {
   "cell_type": "markdown",
   "metadata": {},
   "source": [
    "Wyświetlmy tylko papugi:"
   ]
  },
  {
   "cell_type": "code",
   "execution_count": 56,
   "metadata": {},
   "outputs": [
    {
     "name": "stdout",
     "output_type": "stream",
     "text": [
      "-------------------------\n",
      "ID: 11\n",
      "Nazwa: Pelagia | typ: papuga | płeć: samica\n",
      "Data urodzenia:  2019-10-05\n",
      "Data dodania:  2022-02-27 17:25:38.317800\n",
      "-------------------------\n"
     ]
    }
   ],
   "source": [
    "db.getPetsByType('papuga')\n",
    "db.printSelectResults()"
   ]
  },
  {
   "cell_type": "markdown",
   "metadata": {},
   "source": [
    "Wszystko póki co działa jak powinno. Teraz wyświetlmy wszystkie samice:"
   ]
  },
  {
   "cell_type": "code",
   "execution_count": 57,
   "metadata": {},
   "outputs": [
    {
     "name": "stdout",
     "output_type": "stream",
     "text": [
      "-------------------------\n",
      "ID: 9\n",
      "Nazwa: Sonia | typ: pies | płeć: samica\n",
      "Data urodzenia:  2016-07-15\n",
      "Data dodania:  2022-02-27 17:25:37.660803\n",
      "-------------------------\n",
      "ID: 10\n",
      "Nazwa: Nela | typ: kot | płeć: samica\n",
      "Data urodzenia:  2013-01-22\n",
      "Data dodania:  2022-02-27 17:25:38.221801\n",
      "-------------------------\n",
      "ID: 11\n",
      "Nazwa: Pelagia | typ: papuga | płeć: samica\n",
      "Data urodzenia:  2019-10-05\n",
      "Data dodania:  2022-02-27 17:25:38.317800\n",
      "-------------------------\n",
      "ID: 12\n",
      "Nazwa: Luna | typ: pies | płeć: samica\n",
      "Data urodzenia:  2021-03-10\n",
      "Data dodania:  2022-02-27 17:25:38.425924\n",
      "-------------------------\n"
     ]
    }
   ],
   "source": [
    "db.getPetsByGender('samica')\n",
    "db.printSelectResults()"
   ]
  },
  {
   "cell_type": "markdown",
   "metadata": {},
   "source": [
    "Teraz sprawdźmy jaki zwierzak urodził się 22 stycznia 2013 roku:"
   ]
  },
  {
   "cell_type": "code",
   "execution_count": 4,
   "metadata": {},
   "outputs": [
    {
     "name": "stdout",
     "output_type": "stream",
     "text": [
      "-------------------------\n",
      "ID: 10\n",
      "Nazwa: Nela | typ: kot | płeć: samica\n",
      "Data urodzenia:  2013-01-22\n",
      "Data dodania:  2022-02-27 17:25:38.221801\n",
      "-------------------------\n"
     ]
    }
   ],
   "source": [
    "db.getPetsBornIn(datetime.date(2013, 1, 22))\n",
    "db.printSelectResults()"
   ]
  },
  {
   "cell_type": "markdown",
   "metadata": {},
   "source": [
    "A co jeśli podamy dzień, w którym nie urodził się żaden pupil?"
   ]
  },
  {
   "cell_type": "code",
   "execution_count": 5,
   "metadata": {},
   "outputs": [
    {
     "name": "stdout",
     "output_type": "stream",
     "text": [
      "-------------------------\n"
     ]
    }
   ],
   "source": [
    "db.getPetsBornIn(datetime.date(2010, 1, 1))\n",
    "db.printSelectResults()"
   ]
  },
  {
   "cell_type": "markdown",
   "metadata": {},
   "source": [
    "Dostaliśmy po prostu zakończenie wyświetlania (kosmetyczne). Wyświetlmy teraz listę wszystkich zwierzaków, które urodziły się przed 15 lipca 2016 roku:"
   ]
  },
  {
   "cell_type": "code",
   "execution_count": 6,
   "metadata": {},
   "outputs": [
    {
     "name": "stdout",
     "output_type": "stream",
     "text": [
      "-------------------------\n",
      "ID: 4\n",
      "Nazwa: Azor | typ: pies | płeć: samiec\n",
      "Data urodzenia:  2016-07-13\n",
      "Data dodania:  2022-02-27 17:13:49.041855\n",
      "-------------------------\n",
      "ID: 10\n",
      "Nazwa: Nela | typ: kot | płeć: samica\n",
      "Data urodzenia:  2013-01-22\n",
      "Data dodania:  2022-02-27 17:25:38.221801\n",
      "-------------------------\n"
     ]
    }
   ],
   "source": [
    "db.getPetsBornBefore(datetime.date(2016, 7, 15))\n",
    "db.printSelectResults()"
   ]
  },
  {
   "cell_type": "markdown",
   "metadata": {},
   "source": [
    "Zwierzaki urodzone po 20 stycznia 2020 roku:"
   ]
  },
  {
   "cell_type": "code",
   "execution_count": 7,
   "metadata": {},
   "outputs": [
    {
     "name": "stdout",
     "output_type": "stream",
     "text": [
      "-------------------------\n",
      "ID: 1\n",
      "Nazwa: Nero | typ: pies | płeć: samiec\n",
      "Data urodzenia:  2020-10-04\n",
      "Data dodania:  2022-02-27 17:04:52.796204\n",
      "-------------------------\n",
      "ID: 12\n",
      "Nazwa: Luna | typ: pies | płeć: samica\n",
      "Data urodzenia:  2021-03-10\n",
      "Data dodania:  2022-02-27 17:25:38.425924\n",
      "-------------------------\n",
      "ID: 13\n",
      "Nazwa: Yuri | typ: jaszczurka | płeć: samiec\n",
      "Data urodzenia:  2021-04-01\n",
      "Data dodania:  2022-02-27 17:25:38.509417\n",
      "-------------------------\n",
      "ID: 14\n",
      "Nazwa: Babi | typ: pies | płeć: samiec\n",
      "Data urodzenia:  2021-04-10\n",
      "Data dodania:  2022-02-27 17:25:38.609348\n",
      "-------------------------\n",
      "ID: 15\n",
      "Nazwa: Kacper | typ: kot | płeć: samiec\n",
      "Data urodzenia:  2020-03-01\n",
      "Data dodania:  2022-02-27 17:25:38.709244\n",
      "-------------------------\n"
     ]
    }
   ],
   "source": [
    "db.getPetsBornAfter(datetime.date(2020, 1, 20))\n",
    "db.printSelectResults()"
   ]
  },
  {
   "cell_type": "markdown",
   "metadata": {},
   "source": [
    "Ostatnim z wyświetlania będzie pokazanie wyświetlania na podstawie ID, o którym już wcześniej wspomniałem:"
   ]
  },
  {
   "cell_type": "code",
   "execution_count": 8,
   "metadata": {},
   "outputs": [
    {
     "name": "stdout",
     "output_type": "stream",
     "text": [
      "-------------------------\n",
      "ID: 13\n",
      "Nazwa: Yuri | typ: jaszczurka | płeć: samiec\n",
      "Data urodzenia:  2021-04-01\n",
      "Data dodania:  2022-02-27 17:25:38.509417\n",
      "-------------------------\n"
     ]
    }
   ],
   "source": [
    "db.getPetInfoByID(13) # ID jaszczurki\n",
    "db.printSelectResults()"
   ]
  },
  {
   "cell_type": "markdown",
   "metadata": {},
   "source": [
    "### Aktualizowanie\n",
    "Dane zwierzaków możemy zmienić na podstawie ID. Wyżej wyświetliliśmy dane jaszczurki - zmieńmy jej imię i sprawdźmy rezultaty:"
   ]
  },
  {
   "cell_type": "code",
   "execution_count": 9,
   "metadata": {},
   "outputs": [
    {
     "name": "stdout",
     "output_type": "stream",
     "text": [
      "-------------------------\n",
      "ID: 13\n",
      "Nazwa: Ivan | typ: jaszczurka | płeć: samiec\n",
      "Data urodzenia:  2021-04-01\n",
      "Data dodania:  2022-02-27 17:25:38.509417\n",
      "-------------------------\n"
     ]
    }
   ],
   "source": [
    "db.changePetName(13, 'Ivan')\n",
    "\n",
    "db.getPetInfoByID(13) # ID jaszczurki\n",
    "db.printSelectResults()"
   ]
  },
  {
   "cell_type": "markdown",
   "metadata": {},
   "source": [
    "Jak widać zmieniliśmy nazwę z 'Yuri' na 'Ivan'. Załóżmy teraz, że ktoś przez pomyłkę wpisał, że nasz 'Kacper' (ID 15) nie jest kotem, tylko psem. Naprawmy to:"
   ]
  },
  {
   "cell_type": "code",
   "execution_count": 10,
   "metadata": {},
   "outputs": [
    {
     "name": "stdout",
     "output_type": "stream",
     "text": [
      "-------------------------\n",
      "ID: 15\n",
      "Nazwa: Kacper | typ: pies | płeć: samiec\n",
      "Data urodzenia:  2020-03-01\n",
      "Data dodania:  2022-02-27 17:25:38.709244\n",
      "-------------------------\n"
     ]
    }
   ],
   "source": [
    "db.changePetType(15, 'pies')\n",
    "\n",
    "db.getPetInfoByID(15) # ID Kacpra\n",
    "db.printSelectResults()"
   ]
  },
  {
   "cell_type": "markdown",
   "metadata": {},
   "source": [
    "Oprócz zmiany imienia czy typu zwierzaka są też metody na zmianę płci czy daty urodzenia - działają na tym samym schemacie. Istnieje też metoda która pozwala na zmianę wszystkich danych jednocześnie:"
   ]
  },
  {
   "cell_type": "code",
   "execution_count": 11,
   "metadata": {},
   "outputs": [
    {
     "name": "stdout",
     "output_type": "stream",
     "text": [
      "-------------------------\n",
      "ID: 15\n",
      "Nazwa: Chmurka | typ: pies | płeć: samica\n",
      "Data urodzenia:  2021-11-11\n",
      "Data dodania:  2022-02-27 17:25:38.709244\n",
      "-------------------------\n"
     ]
    }
   ],
   "source": [
    "db.changePetAllData(15, 'Chmurka', 'pies', 'samica', datetime.date(2021, 11, 11)) # Kacper \"magicznie\" zmienił się w Chmurkę\n",
    "\n",
    "db.getPetInfoByID(15) # ID Kacpra, teraz już Chmurki\n",
    "db.printSelectResults()"
   ]
  }
 ],
 "metadata": {
  "interpreter": {
   "hash": "d2353902cdf07c8000daee34972d2affdd0740ffc1172a46fee4bff23f220e23"
  },
  "kernelspec": {
   "display_name": "Python 3.9.2 64-bit",
   "language": "python",
   "name": "python3"
  },
  "language_info": {
   "codemirror_mode": {
    "name": "ipython",
    "version": 3
   },
   "file_extension": ".py",
   "mimetype": "text/x-python",
   "name": "python",
   "nbconvert_exporter": "python",
   "pygments_lexer": "ipython3",
   "version": "3.10.2"
  },
  "orig_nbformat": 4
 },
 "nbformat": 4,
 "nbformat_minor": 2
}
